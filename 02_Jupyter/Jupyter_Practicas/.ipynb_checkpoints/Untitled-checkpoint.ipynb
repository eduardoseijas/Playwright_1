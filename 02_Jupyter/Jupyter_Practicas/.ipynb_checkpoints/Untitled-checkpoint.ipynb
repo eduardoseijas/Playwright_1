{
 "cells": [
  {
   "cell_type": "code",
   "execution_count": 1,
   "id": "1d4ce0da-5d6c-498c-8882-2273c9c805ba",
   "metadata": {},
   "outputs": [
    {
     "name": "stdout",
     "output_type": "stream",
     "text": [
      "Esta es la version 2 con jupyter notebook\n"
     ]
    }
   ],
   "source": [
    "print(\"Esta es la version 2 con jupyter notebook\")"
   ]
  },
  {
   "cell_type": "code",
   "execution_count": 3,
   "id": "f31193c2-b56c-43d3-9e68-15dacc9d5f48",
   "metadata": {},
   "outputs": [
    {
     "name": "stdout",
     "output_type": "stream",
     "text": [
      "30\n"
     ]
    }
   ],
   "source": [
    "a=10\n",
    "b=20\n",
    "suma=a+b\n",
    "print(suma)\n"
   ]
  },
  {
   "cell_type": "code",
   "execution_count": null,
   "id": "5b2c625c-636e-440e-bedd-3a15737cd015",
   "metadata": {},
   "outputs": [],
   "source": []
  }
 ],
 "metadata": {
  "kernelspec": {
   "display_name": "Python 3 (ipykernel)",
   "language": "python",
   "name": "python3"
  },
  "language_info": {
   "codemirror_mode": {
    "name": "ipython",
    "version": 3
   },
   "file_extension": ".py",
   "mimetype": "text/x-python",
   "name": "python",
   "nbconvert_exporter": "python",
   "pygments_lexer": "ipython3",
   "version": "3.13.1"
  }
 },
 "nbformat": 4,
 "nbformat_minor": 5
}
