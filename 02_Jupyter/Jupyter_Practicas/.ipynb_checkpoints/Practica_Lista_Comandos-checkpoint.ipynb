{
 "cells": [
  {
   "cell_type": "code",
   "execution_count": 3,
   "id": "282a9e31-fd1e-456d-a5aa-5c7d5c3671d8",
   "metadata": {},
   "outputs": [
    {
     "name": "stdout",
     "output_type": "stream",
     "text": [
      "9\n"
     ]
    }
   ],
   "source": [
    "#El tamaño de la lista\n",
    "lista=[1,2,3,4,5,6,7,8,9]\n",
    "print(len(lista))\n",
    "#con el comando len te da el total de elementos dentro de la lista"
   ]
  },
  {
   "cell_type": "code",
   "execution_count": 5,
   "id": "bc5cfaaf-d2a6-431c-b7f9-06356dacc6c3",
   "metadata": {},
   "outputs": [
    {
     "name": "stdout",
     "output_type": "stream",
     "text": [
      "[1, 2, 3, 4, 5, 6, 7, 8, 9, 10, 10]\n"
     ]
    }
   ],
   "source": [
    "#Agregar un valor al final de la lista\n",
    "lista.append(10)\n",
    "print(lista)\n",
    "#con el comando append agrego el valor"
   ]
  },
  {
   "cell_type": "code",
   "execution_count": 9,
   "id": "4abc1aca-2bae-40b5-b364-8b4dbe6f9887",
   "metadata": {},
   "outputs": [
    {
     "name": "stdout",
     "output_type": "stream",
     "text": [
      "[1, 2, 3, 4, 6, 5, 5, 5, 6, 7, 8, 9, 10, 10]\n"
     ]
    }
   ],
   "source": [
    "#Agregrar elemento con insert\n",
    "lista.insert(4,6)\n",
    "print(lista)\n",
    "#con el insert en el primero se agrega en donde quieres agregarlo y luego de la coma, que quieres agregar"
   ]
  },
  {
   "cell_type": "code",
   "execution_count": 33,
   "id": "05af836e-51e1-4f0f-958b-850d5dc441f6",
   "metadata": {},
   "outputs": [
    {
     "name": "stdout",
     "output_type": "stream",
     "text": [
      "[1, 2, 3, 4, 6, 5, 5, 5, 6, 7, 8, 9, 10, 10, 11, 12, 13, 14, 15]\n"
     ]
    }
   ],
   "source": [
    "#Creamos una nueva lista, sumando varias listas\n",
    "lista2=[11,12,13,14,15]\n",
    "listatotal=lista+lista2\n",
    "print(listatotal)"
   ]
  },
  {
   "cell_type": "code",
   "execution_count": 15,
   "id": "f60ea28d-60cb-4569-b1a6-d44b774557d9",
   "metadata": {},
   "outputs": [
    {
     "name": "stdout",
     "output_type": "stream",
     "text": [
      "True\n"
     ]
    }
   ],
   "source": [
    "#Buscar un elemento dentro de la lista\n",
    "print(13 in listatotal)"
   ]
  },
  {
   "cell_type": "code",
   "execution_count": 21,
   "id": "45e2cb21-ffad-4b55-862d-6a6584ea7edb",
   "metadata": {},
   "outputs": [
    {
     "name": "stdout",
     "output_type": "stream",
     "text": [
      "12\n"
     ]
    }
   ],
   "source": [
    "#Saber en que posicion esta cada elemento\n",
    "print(listatotal.index(10))\n",
    "# esto se busca con el .index() y adentro colocas el valor que quieres buscar"
   ]
  },
  {
   "cell_type": "code",
   "execution_count": 24,
   "id": "b47d7153-6313-461d-b679-fc45c4154143",
   "metadata": {},
   "outputs": [
    {
     "data": {
      "text/plain": [
       "2"
      ]
     },
     "execution_count": 24,
     "metadata": {},
     "output_type": "execute_result"
    }
   ],
   "source": [
    "#Contar numero de elentos existentes\n",
    "listatotal.count(10)\n",
    "#Con el .count cuenta todos los elementos que hay que colocaste dentro del ()"
   ]
  },
  {
   "cell_type": "code",
   "execution_count": 25,
   "id": "52be26e1-bd40-4fb1-83c8-1eedfb154af7",
   "metadata": {},
   "outputs": [
    {
     "name": "stdout",
     "output_type": "stream",
     "text": [
      "[1, 2, 3, 4, 6, 5, 5, 5, 6, 7, 8, 9, 10, 10, 11, 12, 13, 14, 15]\n",
      "[1, 2, 3, 4, 6, 5, 5, 5, 6, 7, 8, 9, 10, 10, 11, 12, 13, 14]\n"
     ]
    }
   ],
   "source": [
    "#Eliminar elementos de la lista, el ultimo\n",
    "print(listatotal)\n",
    "listatotal.pop()\n",
    "print(listatotal)"
   ]
  },
  {
   "cell_type": "code",
   "execution_count": 27,
   "id": "f09977e4-00e1-4621-820b-e05b737e13c9",
   "metadata": {},
   "outputs": [
    {
     "name": "stdout",
     "output_type": "stream",
     "text": [
      "[1, 2, 3, 4, 6, 5, 5, 6, 7, 8, 9, 10, 10, 11, 12, 13, 14]\n",
      "[1, 2, 3, 4, 6, 5, 6, 7, 8, 9, 10, 10, 11, 12, 13, 14]\n"
     ]
    }
   ],
   "source": [
    "#Eliminar elementos de la lista por coordenada\n",
    "print(listatotal)\n",
    "listatotal.pop(6)\n",
    "print(listatotal)\n",
    "#si le coloco dentro del .pop() un valor, me eliminara el valor que este en esa posicion\n",
    "#deberia eliminarme el segundo 5 que sale"
   ]
  },
  {
   "cell_type": "code",
   "execution_count": 29,
   "id": "df9b79aa-5ef4-44d2-a3ce-84826aab772a",
   "metadata": {},
   "outputs": [
    {
     "name": "stdout",
     "output_type": "stream",
     "text": [
      "[1, 2, 3, 4, 6, 5, 6, 7, 8, 9, 10, 10, 11, 12, 13, 14]\n",
      "[1, 2, 3, 4, 6, 5, 6, 7, 8, 9, 10, 11, 12, 13, 14]\n"
     ]
    }
   ],
   "source": [
    "#Eliminar con remove\n",
    "print(listatotal)\n",
    "listatotal.remove(10)\n",
    "print(listatotal)\n",
    "#con el comando .remove() con el valor dentro de ese, me elimina uno de los que haya en la lista"
   ]
  },
  {
   "cell_type": "code",
   "execution_count": 30,
   "id": "b8cb3722-5c81-4e4b-90e1-a43b6b795c3c",
   "metadata": {},
   "outputs": [
    {
     "name": "stdout",
     "output_type": "stream",
     "text": [
      "[1, 2, 3, 4, 6, 5, 6, 7, 8, 9, 10, 11, 12, 13, 14]\n",
      "[]\n"
     ]
    }
   ],
   "source": [
    "#Si quisiera limpiar toda la lista\n",
    "print(listatotal)\n",
    "listatotal.clear()\n",
    "print(listatotal)\n",
    "#Con este comando .clear(), se limpia toda la lista"
   ]
  },
  {
   "cell_type": "code",
   "execution_count": 34,
   "id": "77010f8a-9a3b-4a71-a8e7-89abb7f9e93c",
   "metadata": {},
   "outputs": [
    {
     "name": "stdout",
     "output_type": "stream",
     "text": [
      "[1, 2, 3, 4, 6, 5, 5, 5, 6, 7, 8, 9, 10, 10, 11, 12, 13, 14, 15]\n"
     ]
    }
   ],
   "source": [
    "#Para que me vuelva a salir la lista, en la seccion que tengo la suma total de las listas, la vuelvo a ejecutar\n",
    "#y me debeeria aparecer cuando la vuelva a lanzar aqui\n",
    "print(listatotal)\n"
   ]
  },
  {
   "cell_type": "code",
   "execution_count": 35,
   "id": "e83f5275-147d-45f1-9a37-cfdc0ea4ab06",
   "metadata": {},
   "outputs": [
    {
     "name": "stdout",
     "output_type": "stream",
     "text": [
      "[1, 2, 3, 4, 6, 5, 5, 5, 6, 7, 8, 9, 10, 10, 11, 12, 13, 14, 15]\n",
      "[15, 14, 13, 12, 11, 10, 10, 9, 8, 7, 6, 5, 5, 5, 6, 4, 3, 2, 1]\n"
     ]
    }
   ],
   "source": [
    "#Invertir Orden\n",
    "print(listatotal)\n",
    "listatotal.reverse()\n",
    "print(listatotal)"
   ]
  },
  {
   "cell_type": "code",
   "execution_count": 42,
   "id": "4b7a8a7d-d2f5-4446-8eae-ee438bf7aad2",
   "metadata": {},
   "outputs": [
    {
     "name": "stdout",
     "output_type": "stream",
     "text": [
      "[15, 14, 13, 12, 11, 10, 10, 9, 8, 7, 6, 5, 5, 5, 6, 4, 3, 2, 1]\n",
      "[15, 14, 13, 12, 11, 10, 10, 9, 8, 7, 6, 5, 5, 5, 6, 4, 3, 2, 1]\n"
     ]
    }
   ],
   "source": [
    "#Que se multiplique el valor de una lista\n",
    "print(listatotal)\n",
    "listatotal *2\n",
    "print(listatotal)\n",
    "# es necesario dejar el espacio entre la variable, el signo * y el valor a multiplicar"
   ]
  },
  {
   "cell_type": "code",
   "execution_count": 43,
   "id": "17e08628-3ae8-4da5-8f7e-e5006a4fdf93",
   "metadata": {},
   "outputs": [
    {
     "name": "stdout",
     "output_type": "stream",
     "text": [
      "[1, 4, 7, 8, 9, 3, 5]\n"
     ]
    }
   ],
   "source": [
    "listanueva=[1,4,7,8,9,3,5]\n",
    "print(listanueva)"
   ]
  },
  {
   "cell_type": "code",
   "execution_count": 44,
   "id": "b8fe9d43-b6f6-4733-b82b-b2d1a00bd0b5",
   "metadata": {},
   "outputs": [
    {
     "name": "stdout",
     "output_type": "stream",
     "text": [
      "[1, 4, 7, 8, 9, 3, 5]\n",
      "[1, 3, 4, 5, 7, 8, 9]\n"
     ]
    }
   ],
   "source": [
    "#Ordenar una lista, usamos de ejemplo la lista nueva\n",
    "print(listanueva)\n",
    "listanueva.sort()\n",
    "print(listanueva)"
   ]
  },
  {
   "cell_type": "code",
   "execution_count": 45,
   "id": "fce609f5-3485-4e7a-ae8c-0994e029533a",
   "metadata": {},
   "outputs": [
    {
     "name": "stdout",
     "output_type": "stream",
     "text": [
      "[1, 3, 4, 5, 7, 8, 9]\n",
      "[9, 8, 7, 5, 4, 3, 1]\n"
     ]
    }
   ],
   "source": [
    "#Si la quiero ordenar de atras a adelante\n",
    "print(listanueva)\n",
    "listanueva.sort(reverse=True)\n",
    "print(listanueva)"
   ]
  },
  {
   "cell_type": "code",
   "execution_count": 46,
   "id": "c0aeeb81-ed9d-4af8-bd08-38aac9855f41",
   "metadata": {},
   "outputs": [
    {
     "name": "stdout",
     "output_type": "stream",
     "text": [
      "0\n"
     ]
    }
   ],
   "source": [
    "x=0\n",
    "print(x)\n"
   ]
  },
  {
   "cell_type": "code",
   "execution_count": 48,
   "id": "d00918ca-fd1e-4df0-8745-ea9bffac792a",
   "metadata": {},
   "outputs": [
    {
     "name": "stdout",
     "output_type": "stream",
     "text": [
      "[9, 8, 7, 5, 4, 3, 1]\n"
     ]
    }
   ],
   "source": [
    "#Pasar el valor de una variable a otra\n",
    "x=listanueva\n",
    "print(x)"
   ]
  }
 ],
 "metadata": {
  "kernelspec": {
   "display_name": "Python 3 (ipykernel)",
   "language": "python",
   "name": "python3"
  },
  "language_info": {
   "codemirror_mode": {
    "name": "ipython",
    "version": 3
   },
   "file_extension": ".py",
   "mimetype": "text/x-python",
   "name": "python",
   "nbconvert_exporter": "python",
   "pygments_lexer": "ipython3",
   "version": "3.13.1"
  }
 },
 "nbformat": 4,
 "nbformat_minor": 5
}
