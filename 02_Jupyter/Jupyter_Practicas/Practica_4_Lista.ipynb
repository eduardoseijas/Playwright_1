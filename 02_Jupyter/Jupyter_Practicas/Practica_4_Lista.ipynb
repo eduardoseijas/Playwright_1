{
 "cells": [
  {
   "cell_type": "code",
   "execution_count": 1,
   "id": "dc37f4b5-63f2-4835-a681-f0b7ffd228f0",
   "metadata": {},
   "outputs": [
    {
     "name": "stdout",
     "output_type": "stream",
     "text": [
      "[]\n"
     ]
    }
   ],
   "source": [
    "lista=[]\n",
    "print(lista)"
   ]
  },
  {
   "cell_type": "code",
   "execution_count": 13,
   "id": "b4f58efb-a17a-462f-8e09-d752b0e2ad25",
   "metadata": {
    "scrolled": true
   },
   "outputs": [
    {
     "name": "stdout",
     "output_type": "stream",
     "text": [
      "['Php', 'JavaScript', 'Python', 'Java', 1, 2, 3, ['Eduardo', 'Darlin', 'Musica'], True]\n"
     ]
    }
   ],
   "source": [
    "lista=[\"Php\",\"JavaScript\",\"Python\",\"Java\",1,2,3,[\"Eduardo\",\"Darlin\",\"Musica\"],True]\n",
    "print(lista)"
   ]
  },
  {
   "cell_type": "code",
   "execution_count": 3,
   "id": "fef8e949-a842-4a59-9c21-82f909cbd055",
   "metadata": {},
   "outputs": [
    {
     "name": "stdout",
     "output_type": "stream",
     "text": [
      "Python\n"
     ]
    }
   ],
   "source": [
    "print(lista[2])"
   ]
  },
  {
   "cell_type": "code",
   "execution_count": 4,
   "id": "a8118ae8-a65b-4727-9133-cf640f64a9d8",
   "metadata": {
    "jupyter": {
     "source_hidden": true
    }
   },
   "outputs": [
    {
     "name": "stdout",
     "output_type": "stream",
     "text": [
      "['Php', 'JavaScript']\n"
     ]
    }
   ],
   "source": [
    "print(lista[0:2])"
   ]
  },
  {
   "cell_type": "code",
   "execution_count": 6,
   "id": "67cd226e-d949-4895-87b2-abccf36b7e49",
   "metadata": {},
   "outputs": [
    {
     "name": "stdout",
     "output_type": "stream",
     "text": [
      "['Php']\n"
     ]
    }
   ],
   "source": [
    "print(lista[0:1])\n"
   ]
  },
  {
   "cell_type": "code",
   "execution_count": 7,
   "id": "f3639b73-d083-4cfc-82d1-430aed2f8319",
   "metadata": {},
   "outputs": [
    {
     "name": "stdout",
     "output_type": "stream",
     "text": [
      "Java\n"
     ]
    }
   ],
   "source": [
    "print(lista[-1])\n"
   ]
  },
  {
   "cell_type": "code",
   "execution_count": 8,
   "id": "ec249669-317f-4f11-b25a-f23edce7798e",
   "metadata": {
    "scrolled": true
   },
   "outputs": [
    {
     "name": "stdout",
     "output_type": "stream",
     "text": [
      "Python\n"
     ]
    }
   ],
   "source": [
    "print(lista[-2])\n"
   ]
  }
 ],
 "metadata": {
  "kernelspec": {
   "display_name": "Python 3 (ipykernel)",
   "language": "python",
   "name": "python3"
  },
  "language_info": {
   "codemirror_mode": {
    "name": "ipython",
    "version": 3
   },
   "file_extension": ".py",
   "mimetype": "text/x-python",
   "name": "python",
   "nbconvert_exporter": "python",
   "pygments_lexer": "ipython3",
   "version": "3.13.1"
  }
 },
 "nbformat": 4,
 "nbformat_minor": 5
}
