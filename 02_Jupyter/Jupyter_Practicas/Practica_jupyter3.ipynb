{
 "cells": [
  {
   "cell_type": "markdown",
   "id": "f8cfa913-00b1-4027-924b-2c78ea7ddfb2",
   "metadata": {},
   "source": [
    "# Esto es un comentario - Con markdown puedo poner un comentario\n"
   ]
  },
  {
   "cell_type": "markdown",
   "id": "14a030fb-2c7c-41ef-9272-38bd99a83433",
   "metadata": {},
   "source": [
    "### Esto es un comentario mas pequeno"
   ]
  },
  {
   "cell_type": "code",
   "execution_count": 6,
   "id": "56cae4b6-e83f-4fde-910a-cac29fd20d11",
   "metadata": {},
   "outputs": [
    {
     "name": "stdout",
     "output_type": "stream",
     "text": [
      "Manejo del entorno jupyter\n",
      "Primera linea\n"
     ]
    }
   ],
   "source": [
    "print(\"Manejo del entorno jupyter\")\n",
    "print(\"Primera linea\")"
   ]
  },
  {
   "cell_type": "code",
   "execution_count": 9,
   "id": "6aeb65b2-959b-4198-b479-7bda95bcbda9",
   "metadata": {},
   "outputs": [
    {
     "name": "stdout",
     "output_type": "stream",
     "text": [
      "Segunda linea\n",
      "Esta linea es para recordar que pdemos mover las filas en el orden que queramos\n"
     ]
    }
   ],
   "source": [
    "print(\"Segunda linea\")\n",
    "print(\"Esta linea es para recordar que pdemos mover las filas en el orden que queramos\")"
   ]
  },
  {
   "cell_type": "code",
   "execution_count": 8,
   "id": "fc4bac0d-a22d-4b17-ba6a-3be78115a455",
   "metadata": {},
   "outputs": [
    {
     "name": "stdout",
     "output_type": "stream",
     "text": [
      "Tercera linea\n"
     ]
    }
   ],
   "source": [
    "print(\"Tercera linea\")"
   ]
  }
 ],
 "metadata": {
  "kernelspec": {
   "display_name": "Python 3 (ipykernel)",
   "language": "python",
   "name": "python3"
  },
  "language_info": {
   "codemirror_mode": {
    "name": "ipython",
    "version": 3
   },
   "file_extension": ".py",
   "mimetype": "text/x-python",
   "name": "python",
   "nbconvert_exporter": "python",
   "pygments_lexer": "ipython3",
   "version": "3.13.1"
  }
 },
 "nbformat": 4,
 "nbformat_minor": 5
}
